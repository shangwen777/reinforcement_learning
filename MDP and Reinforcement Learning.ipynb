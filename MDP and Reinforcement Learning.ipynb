{
 "cells": [
  {
   "cell_type": "code",
   "execution_count": 283,
   "id": "dfe4fc82",
   "metadata": {},
   "outputs": [],
   "source": [
    "import numpy as np\n",
    "import time"
   ]
  },
  {
   "cell_type": "markdown",
   "id": "12ec5204",
   "metadata": {},
   "source": [
    "### MDP1: Bounded Random Walk"
   ]
  },
  {
   "cell_type": "markdown",
   "id": "f6594472",
   "metadata": {},
   "source": [
    "##### \n",
    "States (S): {0, 1, 2, 3, 4, 5}\n",
    "Actions (A): {left, right}\n",
    "Transition probabilities (P): When in states 1 to 4, the agent moves left with a probability of 0.5 and right with a probability of 0.5. In state 0, the agent cannot move left, and in state 5, it cannot move right. We can represent these probabilities using a transition matrix.\n",
    "Rewards (R): The agent receives a reward of 0 for reaching the left boundary (state 0) and a reward of 1 for reaching the right boundary (state 5). All other transitions have a reward of 0.\n",
    "Discount factor (γ): Set to a value between 0 and 1, such as 0.9, to balance immediate and future rewards.\n"
   ]
  },
  {
   "cell_type": "code",
   "execution_count": 2,
   "id": "d51232ed",
   "metadata": {},
   "outputs": [],
   "source": [
    "# Paremeters\n",
    "n_states = 6\n",
    "n_actions = 2\n",
    "P_left = 0.5\n",
    "P_right = 0.5\n",
    "reward_left = 0\n",
    "reward_right = 1\n",
    "gamma = 0.9\n",
    "threshold = 0.001"
   ]
  },
  {
   "cell_type": "markdown",
   "id": "f4f560fd",
   "metadata": {},
   "source": [
    "### MPD1 solve by Value Iteration "
   ]
  },
  {
   "cell_type": "code",
   "execution_count": 37,
   "id": "52834f55",
   "metadata": {},
   "outputs": [],
   "source": [
    "# Value iteration is \n",
    "# have initial value of each state\n",
    "# collect the reward of current state\n",
    "# scanning the expected value of possible next states for choosing each of the action\n",
    "# update the value of current state by the value maximized by an action"
   ]
  },
  {
   "cell_type": "code",
   "execution_count": 18,
   "id": "3578b72b",
   "metadata": {},
   "outputs": [],
   "source": [
    "# Initialize the value function\n",
    "V = np.zeros(n_states)\n",
    "\n",
    "# Tansition probabilities\n",
    "P = np.zeros((n_states, n_actions, n_states))\n",
    "for s in range(1, n_states - 1):\n",
    "    P[s, 0, s - 1] = P_left\n",
    "    P[s, 1, s + 1] = P_right\n",
    "    \n",
    "P[0, 1, 1] = 1.0\n",
    "P[n_states - 1, 0, n_states - 2] = 1.0\n",
    "\n",
    "# Rewards\n",
    "R = np.zeros((n_states, n_actions, n_states))\n",
    "R[n_states - 2, 1, n_states - 1] = reward_right\n"
   ]
  },
  {
   "cell_type": "code",
   "execution_count": 21,
   "id": "1b0986fa",
   "metadata": {},
   "outputs": [
    {
     "name": "stdout",
     "output_type": "stream",
     "text": [
      "Optimal value function: [0.06816712 0.0762377  0.16941712 0.37747541 0.83883424 0.75495082]\n",
      "Optimal policy: [1 1 1 1 1 0]\n",
      "Converge time: 0.0016078948974609375\n"
     ]
    }
   ],
   "source": [
    "# Value iteration\n",
    "start_time = time.time()\n",
    "while True:\n",
    "    V_new = np.zeros(n_states)\n",
    "    for s in range(n_states):\n",
    "        q_values = np.sum(P[s]*(R[s] + gamma * V), axis = 1)\n",
    "        V_new[s] = np.max(q_values)\n",
    "    \n",
    "    if np.max(np.abs(V - V_new)) < threshold:\n",
    "        break\n",
    "        \n",
    "    V = V_new\n",
    "    \n",
    "# Compute the optimal policy\n",
    "policy = np.zeros(n_states, dtype=int)\n",
    "for s in range(n_states):\n",
    "    q_values = np.sum(P[s]*(R[s] + gamma * V), axis = 1)\n",
    "    policy[s] = np.argmax(q_values)\n",
    "converge_time = time.time() - start_time\n",
    "print(\"Optimal value function:\", V)\n",
    "print(\"Optimal policy:\", policy)\n",
    "print(\"Converge time:\", converge_time)"
   ]
  },
  {
   "cell_type": "markdown",
   "id": "5e1b726a",
   "metadata": {},
   "source": [
    "### MPD1 solve by Policy Iteration"
   ]
  },
  {
   "cell_type": "code",
   "execution_count": 38,
   "id": "9ff66717",
   "metadata": {},
   "outputs": [],
   "source": [
    "# Policy iteration is\n",
    "# Have initial policy for each state\n",
    "# Given the policy, update value function for each state as\n",
    "        # collect current reward\n",
    "        # scan possible next state with the given action\n",
    "        # until the value is converging\n",
    "        \n",
    "              # for each of the state and each of the action update the value function\n",
    "              # choose the action that maximize the value function\n",
    "              # update policy \n",
    "              # until the policy converge\n",
    "        "
   ]
  },
  {
   "cell_type": "code",
   "execution_count": 32,
   "id": "5b5cdeab",
   "metadata": {},
   "outputs": [],
   "source": [
    "# Initialize the policy\n",
    "policy = np.zeros(n_states, dtype=int)\n",
    "\n",
    "def evaluate_policy(policy, P, R, gamma, threshold):\n",
    "    V = np.zeros(n_states)\n",
    "    while True:\n",
    "        V_new = np.zeros(n_states)\n",
    "        for s in range(n_states):\n",
    "            a = policy[s]\n",
    "            V_new[s] = np.sum(P[s, a]*(R[s, a] + gamma * V))\n",
    "        \n",
    "        if np.max(np.abs(V - V_new)) < threshold:\n",
    "            break\n",
    "            \n",
    "        V = V_new\n",
    "    return V"
   ]
  },
  {
   "cell_type": "code",
   "execution_count": 33,
   "id": "cea9d663",
   "metadata": {},
   "outputs": [
    {
     "name": "stdout",
     "output_type": "stream",
     "text": [
      "Optimal value function: [0.06816712 0.0762377  0.16941712 0.37747541 0.83883424 0.75495082]\n",
      "Optimal policy: [1 1 1 1 1 0]\n",
      "Converge time: 0.018410205841064453\n"
     ]
    }
   ],
   "source": [
    "# Policy iteration\n",
    "start_time = time.time()\n",
    "policy_stable = False\n",
    "\n",
    "while not policy_stable:\n",
    "    V = evaluate_policy(policy, P, R, gamma, threshold)\n",
    "    policy_stable = True\n",
    "    for s in range(n_states):\n",
    "        old_action = policy[s]\n",
    "        q_values = np.sum(P[s]*(R[s] + gamma * V), axis = 1)\n",
    "        policy[s] = np.argmax(q_values)\n",
    "        \n",
    "        if old_action != policy[s]:\n",
    "            policy_stable = False\n",
    "converge_time = time.time() - start_time\n",
    "\n",
    "print(\"Optimal value function:\", V)\n",
    "print(\"Optimal policy:\", policy)\n",
    "print(\"Converge time:\", converge_time)\n"
   ]
  },
  {
   "cell_type": "markdown",
   "id": "206c1035",
   "metadata": {},
   "source": [
    "### MDP1 solve by Q-learning"
   ]
  },
  {
   "cell_type": "code",
   "execution_count": 49,
   "id": "3f85821c",
   "metadata": {},
   "outputs": [],
   "source": [
    "# Q-learning is\n",
    "# initialize Q function\n",
    "# random select a state\n",
    "     # with certain probability, choose the action to maximize Q function or random select an action\n",
    "     # knowing the next state it will achieve by choosing the action above\n",
    "     # collect the reward of this move\n",
    "     # update the Q function for current state and chosen action with a learning rate on the delta Q"
   ]
  },
  {
   "cell_type": "code",
   "execution_count": 44,
   "id": "c8e8cfba",
   "metadata": {},
   "outputs": [
    {
     "name": "stdout",
     "output_type": "stream",
     "text": [
      "Q-values: [[0.     0.    ]\n",
      " [0.     0.729 ]\n",
      " [0.6561 0.81  ]\n",
      " [0.729  0.9   ]\n",
      " [0.81   1.    ]\n",
      " [0.     0.    ]]\n",
      "Optimal policy: [0 1 1 1 1 0]\n",
      "Converge time: 0.2550489902496338\n"
     ]
    }
   ],
   "source": [
    "import numpy as np\n",
    "\n",
    "# Parameters\n",
    "n_states = 6\n",
    "n_actions = 2\n",
    "P_left = 0.5\n",
    "P_right = 0.5\n",
    "reward_left = 0\n",
    "reward_right = 1\n",
    "gamma = 0.9\n",
    "threshold = 0.001\n",
    "alpha = 0.1\n",
    "n_episodes = 10000\n",
    "\n",
    "# Transition function\n",
    "def transition(s, a):\n",
    "    if s == 0 and a == 1:\n",
    "        return 1\n",
    "    elif s == n_states - 1 and a == 0:\n",
    "        return n_states - 2\n",
    "    elif a == 0:\n",
    "        return s - 1\n",
    "    else:\n",
    "        return s + 1\n",
    "\n",
    "# Reward function\n",
    "def reward(s, a, s_next):\n",
    "    if s == n_states - 2 and a == 1:\n",
    "        return reward_right\n",
    "    else:\n",
    "        return 0\n",
    "\n",
    "# Q-learning\n",
    "Q = np.zeros((n_states, n_actions))\n",
    "start_time = time.time()\n",
    "for episode in range(n_episodes):\n",
    "    s = np.random.randint(1, n_states - 1)  # Start in a random state, excluding boundaries\n",
    "    done = False\n",
    "    \n",
    "    while not done:\n",
    "        a = np.argmax(Q[s]) if np.random.rand() > 0.1 else np.random.randint(n_actions)\n",
    "        s_next = transition(s, a)\n",
    "        r = reward(s, a, s_next)\n",
    "        \n",
    "        Q[s, a] = Q[s, a] + alpha * (r + gamma * np.max(Q[s_next]) - Q[s, a])\n",
    "        \n",
    "        if s_next == 0 or s_next == n_states - 1:\n",
    "            done = True\n",
    "        else:\n",
    "            s = s_next\n",
    "\n",
    "# Derive the optimal policy from the Q-values\n",
    "policy = np.argmax(Q, axis=1)\n",
    "converge_time = time.time() - start_time\n",
    "\n",
    "print(\"Q-values:\", Q)\n",
    "print(\"Optimal policy:\", policy)\n",
    "print(\"Converge time:\", converge_time)\n"
   ]
  },
  {
   "cell_type": "markdown",
   "id": "f88af12c",
   "metadata": {},
   "source": [
    "### MDP2: Taxi-v3"
   ]
  },
  {
   "cell_type": "code",
   "execution_count": 45,
   "id": "657b6fe4",
   "metadata": {},
   "outputs": [],
   "source": [
    "# The Taxi Problem is a classic example of an MDP with a larger number of states. \n",
    "# It involves a taxi navigating a 5x5 grid to pick up a passenger and drop them off at their destination. \n",
    "# The MDP is defined as follows:\n",
    "\n",
    "# States (S): Each cell in the grid has four possible locations for the passenger and four possible destinations, \n",
    "# resulting in 5x5x5x4 = 500 states in total.\n",
    "# Actions (A): The agent can move in 4 directions (up, down, left, and right), pick up a passenger, or drop off a passenger, totaling 6 actions.\n",
    "# Transition probabilities (P): The agent moves deterministically, except when hitting a wall, in which case it stays in the current state.\n",
    "# Rewards (R): The agent receives a reward of -1 for each step it takes, -10 for illegal pick-up/drop-off actions, and +20 for successfully dropping off a passenger at their destination.\n",
    "# Discount factor (γ): Typically set to a value between 0 and 1, such as 0.9, to balance immediate and future rewards.\n"
   ]
  },
  {
   "cell_type": "code",
   "execution_count": 46,
   "id": "d25ef334",
   "metadata": {},
   "outputs": [
    {
     "name": "stdout",
     "output_type": "stream",
     "text": [
      "Requirement already satisfied: gym in /Users/shangwenhuang/opt/anaconda3/lib/python3.8/site-packages (0.20.0)\r\n",
      "Requirement already satisfied: cloudpickle>=1.2.0 in /Users/shangwenhuang/opt/anaconda3/lib/python3.8/site-packages (from gym) (1.6.0)\r\n",
      "Requirement already satisfied: numpy>=1.18.0 in /Users/shangwenhuang/opt/anaconda3/lib/python3.8/site-packages (from gym) (1.22.4)\r\n"
     ]
    }
   ],
   "source": [
    "!pip install gym"
   ]
  },
  {
   "cell_type": "markdown",
   "id": "6f63b052",
   "metadata": {},
   "source": [
    "### MDP2 solve by Value Iteration"
   ]
  },
  {
   "cell_type": "code",
   "execution_count": 221,
   "id": "0444a74d",
   "metadata": {
    "scrolled": true
   },
   "outputs": [
    {
     "name": "stdout",
     "output_type": "stream",
     "text": [
      "Optimal policy: [4 4 4 4 0 0 0 0 0 0 0 0 0 0 0 0 5 0 0 0 3 3 3 3 0 0 0 0 0 0 0 0 0 0 0 0 3\n",
      " 0 0 0 0 0 0 0 2 2 2 2 0 0 0 0 0 0 0 0 0 2 0 0 0 0 0 0 2 2 2 2 0 0 0 0 0 0\n",
      " 0 0 0 2 0 0 0 0 0 0 4 4 4 4 0 0 0 0 0 0 0 0 0 5 0 0 1 1 1 1 0 0 0 0 0 0 0\n",
      " 0 0 0 0 0 1 0 0 0 1 1 1 1 0 0 0 0 0 0 0 0 0 0 0 0 1 0 0 0 0 0 0 0 1 1 1 1\n",
      " 0 0 0 0 0 0 0 0 0 1 0 0 0 0 0 0 1 1 1 1 0 0 0 0 0 0 0 0 0 1 0 0 0 0 0 0 1\n",
      " 1 1 1 0 0 0 0 0 0 0 0 0 1 0 0 1 1 1 1 2 2 2 2 0 0 0 0 2 2 2 2 1 2 0 2 1 1\n",
      " 1 1 2 2 2 2 3 3 3 3 2 2 2 2 1 2 3 2 3 3 3 3 1 1 1 1 3 3 3 3 2 2 2 2 3 1 3\n",
      " 2 3 3 3 3 1 1 1 1 3 3 3 3 0 0 0 0 3 1 3 0 3 3 3 3 1 1 1 1 3 3 3 3 0 0 0 0\n",
      " 3 1 3 0 1 1 1 1 1 1 1 1 0 0 0 0 1 1 1 1 1 1 0 1 1 1 1 1 1 1 1 1 1 1 1 1 1\n",
      " 1 1 1 1 1 1 1 1 1 1 1 1 1 1 1 1 1 1 1 1 1 1 1 1 1 1 1 1 1 1 1 1 1 1 1 1 1\n",
      " 1 1 0 0 0 0 1 1 1 0 1 1 1 1 1 1 1 1 1 1 1 1 0 0 0 0 1 1 1 0 1 1 1 1 1 1 1\n",
      " 1 4 4 4 4 1 1 1 1 1 1 5 1 1 1 1 1 1 1 1 1 1 1 1 1 1 1 1 1 1 1 1 1 1 1 1 1\n",
      " 1 1 1 1 1 1 1 1 1 1 1 1 1 1 1 1 1 1 1 1 1 1 1 1 1 1 1 1 4 4 4 4 1 1 1 5 1\n",
      " 1 1 1 1 1 1 1 1 1 1 1 3 3 3 3 1 1 1 3]\n",
      "Converge time: 0.5664689540863037\n",
      "Number of iteration: 94\n"
     ]
    }
   ],
   "source": [
    "import numpy as np\n",
    "import gym\n",
    "\n",
    "# Load the Taxi-v3 environment\n",
    "env = gym.make('Taxi-v3')\n",
    "\n",
    "# Get the number of states and actions from the environment\n",
    "n_states = env.observation_space.n\n",
    "n_actions = env.action_space.n\n",
    "\n",
    "# Value iteration\n",
    "V = np.zeros(n_states)\n",
    "threshold = 0.001\n",
    "gamma = 0.9\n",
    "start_time = time.time()\n",
    "n = 0\n",
    "V_delta_list = []\n",
    "while True:\n",
    "    V_new = np.zeros(n_states)\n",
    "    for s in range(n_states):\n",
    "        q_values = np.zeros(n_actions)\n",
    "        for a in range(n_actions):\n",
    "            for prob, s_next, r, done in env.P[s][a]:\n",
    "                q_values[a] += prob * (r + gamma * V[s_next])\n",
    "        V_new[s] = np.max(q_values)\n",
    "    V_delta_list.append(np.max(np.abs(V - V_new)))\n",
    "    if np.max(np.abs(V - V_new)) < threshold:\n",
    "        break\n",
    "    \n",
    "    V = V_new\n",
    "    \n",
    "    n += 1\n",
    "\n",
    "# Compute the optimal policy\n",
    "policy = np.zeros(n_states, dtype=int)\n",
    "for s in range(n_states):\n",
    "    q_values = np.zeros(n_actions)\n",
    "    for a in range(n_actions):\n",
    "        for prob, s_next, r, done in env.P[s][a]:\n",
    "            q_values[a] += prob * (r + gamma * V[s_next])\n",
    "    policy[s] = np.argmax(q_values)\n",
    "converge_time = time.time() - start_time\n",
    "\n",
    "print(\"Optimal policy:\", policy)\n",
    "print(\"Converge time:\", converge_time)\n",
    "print(\"Number of iteration:\", n)\n",
    "\n"
   ]
  },
  {
   "cell_type": "code",
   "execution_count": 222,
   "id": "b322b4b3",
   "metadata": {},
   "outputs": [],
   "source": [
    "def get_total_reward(env, policy):\n",
    "    s = env.reset()\n",
    "    total_reward = 0\n",
    "    done = False\n",
    "    \n",
    "    while not done:\n",
    "        a = policy[s]\n",
    "        s, r, done, _ = env.step(a)\n",
    "        total_reward += r\n",
    "    return total_reward"
   ]
  },
  {
   "cell_type": "code",
   "execution_count": 223,
   "id": "7a8137d0",
   "metadata": {},
   "outputs": [
    {
     "name": "stdout",
     "output_type": "stream",
     "text": [
      "Average total reward over 1000 episodes: 7.933\n"
     ]
    }
   ],
   "source": [
    "n_episodes = 1000\n",
    "total_rewards = []\n",
    "for _ in range(n_episodes):\n",
    "    total_reward = get_total_reward(env, policy)\n",
    "    total_rewards.append(total_reward)\n",
    "    \n",
    "average_total_reward = np.mean(total_rewards)\n",
    "print(f\"Average total reward over {n_episodes} episodes: {average_total_reward}\")"
   ]
  },
  {
   "cell_type": "code",
   "execution_count": 225,
   "id": "434911fb",
   "metadata": {},
   "outputs": [
    {
     "data": {
      "image/png": "[encoded data removed]",
      "text/plain": [
       "<Figure size 432x288 with 1 Axes>"
      ]
     },
     "metadata": {
      "needs_background": "light"
     },
     "output_type": "display_data"
    }
   ],
   "source": [
    "plt.plot(np.arange(n+1), V_delta_list)\n",
    "plt.xlabel('Iteration')\n",
    "plt.ylabel('Value Abs Delta Max')\n",
    "plt.title('Updated Value by Iteration')\n",
    "plt.savefig('MDP2_value_update.jpg')\n",
    "plt.show()"
   ]
  },
  {
   "cell_type": "markdown",
   "id": "d20981d0",
   "metadata": {},
   "source": [
    "### MDP2 solve by Policy Iteration"
   ]
  },
  {
   "cell_type": "code",
   "execution_count": 252,
   "id": "4a76f4ba",
   "metadata": {},
   "outputs": [
    {
     "name": "stdout",
     "output_type": "stream",
     "text": [
      "Optimal policy: [4 4 4 4 0 0 0 0 0 0 0 0 0 0 0 0 5 0 0 0 3 3 3 3 0 0 0 0 0 0 0 0 0 0 0 0 3\n",
      " 0 0 0 0 0 0 0 2 2 2 2 0 0 0 0 0 0 0 0 0 2 0 0 0 0 0 0 2 2 2 2 0 0 0 0 0 0\n",
      " 0 0 0 2 0 0 0 0 0 0 4 4 4 4 0 0 0 0 0 0 0 0 0 5 0 0 1 1 1 1 0 0 0 0 0 0 0\n",
      " 0 0 0 0 0 1 0 0 0 1 1 1 1 0 0 0 0 0 0 0 0 0 0 0 0 1 0 0 0 0 0 0 0 1 1 1 1\n",
      " 0 0 0 0 0 0 0 0 0 1 0 0 0 0 0 0 1 1 1 1 0 0 0 0 0 0 0 0 0 1 0 0 0 0 0 0 1\n",
      " 1 1 1 0 0 0 0 0 0 0 0 0 1 0 0 1 1 1 1 2 2 2 2 0 0 0 0 2 2 2 2 1 2 0 2 1 1\n",
      " 1 1 2 2 2 2 3 3 3 3 2 2 2 2 1 2 3 2 3 3 3 3 1 1 1 1 3 3 3 3 2 2 2 2 3 1 3\n",
      " 2 3 3 3 3 1 1 1 1 3 3 3 3 0 0 0 0 3 1 3 0 3 3 3 3 1 1 1 1 3 3 3 3 0 0 0 0\n",
      " 3 1 3 0 1 1 1 1 1 1 1 1 0 0 0 0 1 1 1 1 1 1 0 1 1 1 1 1 1 1 1 1 1 1 1 1 1\n",
      " 1 1 1 1 1 1 1 1 1 1 1 1 1 1 1 1 1 1 1 1 1 1 1 1 1 1 1 1 1 1 1 1 1 1 1 1 1\n",
      " 1 1 0 0 0 0 1 1 1 0 1 1 1 1 1 1 1 1 1 1 1 1 0 0 0 0 1 1 1 0 1 1 1 1 1 1 1\n",
      " 1 4 4 4 4 1 1 1 1 1 1 5 1 1 1 1 1 1 1 1 1 1 1 1 1 1 1 1 1 1 1 1 1 1 1 1 1\n",
      " 1 1 1 1 1 1 1 1 1 1 1 1 1 1 1 1 1 1 1 1 1 1 1 1 1 1 1 1 4 4 4 4 1 1 1 5 1\n",
      " 1 1 1 1 1 1 1 1 1 1 1 3 3 3 3 1 1 1 3]\n",
      "Converge time: 1.0862560272216797\n",
      "Number of iterations: 1559\n"
     ]
    }
   ],
   "source": [
    "import numpy as np\n",
    "import gym\n",
    "\n",
    "# Load the Taxi-v3 environment\n",
    "env = gym.make('Taxi-v3')\n",
    "\n",
    "# Get the number of states and actions from the environment\n",
    "n_states = env.observation_space.n\n",
    "n_actions = env.action_space.n\n",
    "\n",
    "# Policy evaluation\n",
    "def evaluate_policy(policy, env, gamma, threshold):\n",
    "    V = np.zeros(n_states)\n",
    "    n = 0\n",
    "    V_delta_list = []\n",
    "    \n",
    "    while True:\n",
    "        V_new = np.zeros(n_states)\n",
    "        for s in range(n_states):\n",
    "            a = policy[s]\n",
    "            for prob, s_next, r, done in env.P[s][a]:\n",
    "                V_new[s] += prob * (r + gamma * V[s_next])\n",
    "        n += 1\n",
    "        V_delta_list.append(np.max(np.abs(V - V_new)))\n",
    "        if np.max(np.abs(V - V_new)) < threshold:\n",
    "            break\n",
    "       \n",
    "        V = V_new\n",
    "        \n",
    "    return V, V_delta_list, n\n",
    "\n",
    "# Initialize the policy\n",
    "policy = np.zeros(n_states, dtype=int)\n",
    "\n",
    "# Policy iteration\n",
    "gamma = 0.9\n",
    "threshold = 0.001\n",
    "policy_stable = False\n",
    "start_time = time.time()\n",
    "i = 0\n",
    "value_max_list = []\n",
    "while not policy_stable:\n",
    "    V, V_delta_list, n = evaluate_policy(policy, env, gamma, threshold)\n",
    "    i += n\n",
    "    value_max_list = value_max_list + V_delta_list\n",
    "    \n",
    "    policy_stable = True\n",
    "    for s in range(n_states):\n",
    "        old_action = policy[s]\n",
    "        q_values = np.zeros(n_actions)\n",
    "        for a in range(n_actions):\n",
    "            for prob, s_next, r, done in env.P[s][a]:\n",
    "                q_values[a] += prob * (r + gamma * V[s_next])\n",
    "        policy[s] = np.argmax(q_values)\n",
    "        \n",
    "        if old_action != policy[s]:\n",
    "            policy_stable = False\n",
    "converge_time = time.time() - start_time\n",
    "\n",
    "print(\"Optimal policy:\", policy)\n",
    "print(\"Converge time:\", converge_time)\n",
    "print(\"Number of iterations:\", i)\n"
   ]
  },
  {
   "cell_type": "code",
   "execution_count": 245,
   "id": "965dc7ce",
   "metadata": {},
   "outputs": [
    {
     "data": {
      "image/png": "[encoded data removed]",
      "text/plain": [
       "<Figure size 432x288 with 1 Axes>"
      ]
     },
     "metadata": {
      "needs_background": "light"
     },
     "output_type": "display_data"
    }
   ],
   "source": [
    "plt.plot(np.arange(len(value_max_list)), value_max_list)\n",
    "plt.xlabel('Iteration')\n",
    "plt.ylabel('Value Abs Delta Max')\n",
    "plt.title('Updated Value by Iteration')\n",
    "plt.savefig('MDP2_policy_update.jpg')\n",
    "plt.show()"
   ]
  },
  {
   "cell_type": "code",
   "execution_count": 228,
   "id": "e8da1d45",
   "metadata": {},
   "outputs": [
    {
     "name": "stdout",
     "output_type": "stream",
     "text": [
      "Average total reward over 1000 episodes: 8.009\n"
     ]
    }
   ],
   "source": [
    "n_episodes = 1000\n",
    "total_rewards = []\n",
    "for _ in range(n_episodes):\n",
    "    total_reward = get_total_reward(env, policy)\n",
    "    total_rewards.append(total_reward)\n",
    "    \n",
    "average_total_reward = np.mean(total_rewards)\n",
    "print(f\"Average total reward over {n_episodes} episodes: {average_total_reward}\")"
   ]
  },
  {
   "cell_type": "markdown",
   "id": "6d038f29",
   "metadata": {},
   "source": [
    "### MDP2 solve by Q-Learning with Epsilon-greedy exploration strategy"
   ]
  },
  {
   "cell_type": "code",
   "execution_count": 334,
   "id": "cfd3a8bc",
   "metadata": {},
   "outputs": [],
   "source": [
    "################\n",
    "# DO NOT REMOVE\n",
    "# Versions\n",
    "# gym==0.17.2\n",
    "# numpy==1.18.0\n",
    "################\n",
    "\n",
    "class QLearningAgent(object):\n",
    "    def __init__(self):\n",
    "        self.whoami = 'gatechid'\n",
    "\n",
    "\n",
    "    def solve(self):\n",
    "        \"\"\"Create the Q table\"\"\"\n",
    "        env = gym.make(\"Taxi-v3\").env\n",
    "        state_n = env.observation_space.n\n",
    "        action_n = env.action_space.n\n",
    "        q_table = np.zeros([state_n, action_n])\n",
    "        alpha = 0.5\n",
    "        gamma = 0.9\n",
    "        epsilon = 0.6\n",
    "        n_episodes = 5000\n",
    "        q_table = np.zeros([state_n, action_n])\n",
    "        \n",
    "        # define choose_action function\n",
    "        def choose_action(state, epsilon):\n",
    "            \"\"\"Choose action base on greedy epsilon method\"\"\"\n",
    "            p = np.random.uniform(0, 1)\n",
    "            if p < epsilon:\n",
    "                action = env.action_space.sample()\n",
    "            else:\n",
    "                action = np.argmax(q_table[state])\n",
    "            return action\n",
    "        \n",
    "        V_mean_list = []\n",
    "        start_time = time.time()\n",
    "        for n in range(n_episodes):  \n",
    "            state = env.reset()\n",
    "            state_list = [state]\n",
    "            action_list = []\n",
    "            done = False\n",
    "\n",
    "\n",
    "            while not done:\n",
    "\n",
    "                action = choose_action(state, epsilon)\n",
    "                # from State, taken action, what is the next state, award, termination?\n",
    "                next_state, reward, done, info = env.step(action)\n",
    "                prev_q = q_table[state, action]\n",
    "                next_max_q = np.max(q_table[next_state])\n",
    "                new_q = (1 - alpha) * prev_q + alpha * (reward + gamma * next_max_q)\n",
    "                q_table[state, action] = new_q\n",
    "                V_mean = np.max(q_table, axis = 1).mean()\n",
    "                V_mean_list.append(V_mean)\n",
    "\n",
    "                state = next_state\n",
    "                state_list.append(state)\n",
    "                action_list.append(action)\n",
    "        converge_time = time.time() - start_time\n",
    "        print(\"Converge time:\", converge_time)\n",
    "\n",
    "        \n",
    "        self.Q = q_table\n",
    "        return q_table, converge_time, V_mean_list\n",
    "\n",
    "    def Q_table(self, state, action):\n",
    "        \"\"\"return the optimal value for State-Action pair in the Q Table\"\"\"\n",
    "        return self.Q[state][action]"
   ]
  },
  {
   "cell_type": "code",
   "execution_count": 335,
   "id": "59ad9dba",
   "metadata": {},
   "outputs": [
    {
     "name": "stdout",
     "output_type": "stream",
     "text": [
      "Converge time: 12.05768895149231\n"
     ]
    }
   ],
   "source": [
    "q_table, converge_time, V_mean_list = QLearningAgent().solve()"
   ]
  },
  {
   "cell_type": "code",
   "execution_count": 336,
   "id": "56404fa5",
   "metadata": {},
   "outputs": [],
   "source": [
    "policy = np.argmax(q_table, axis = 1)"
   ]
  },
  {
   "cell_type": "code",
   "execution_count": 337,
   "id": "fa8bbbba",
   "metadata": {},
   "outputs": [
    {
     "name": "stdout",
     "output_type": "stream",
     "text": [
      "Average total reward over 1000 episodes: 7.838\n"
     ]
    }
   ],
   "source": [
    "n_episodes = 1000\n",
    "total_rewards = []\n",
    "for _ in range(n_episodes):\n",
    "    total_reward = get_total_reward(env, policy)\n",
    "    total_rewards.append(total_reward)\n",
    "    \n",
    "average_total_reward = np.mean(total_rewards)\n",
    "print(f\"Average total reward over {n_episodes} episodes: {average_total_reward}\")"
   ]
  },
  {
   "cell_type": "code",
   "execution_count": 338,
   "id": "1ce6c091",
   "metadata": {
    "scrolled": true
   },
   "outputs": [
    {
     "data": {
      "image/png": "[encoded data removed]",
      "text/plain": [
       "<Figure size 432x288 with 1 Axes>"
      ]
     },
     "metadata": {
      "needs_background": "light"
     },
     "output_type": "display_data"
    },
    {
     "name": "stdout",
     "output_type": "stream",
     "text": [
      "Number of iteration: 215860\n",
      "Optimal policy: [0 4 4 4 2 0 0 2 0 0 0 0 0 0 2 0 5 0 0 0 0 3 3 3 0 0 0 0 0 3 0 0 0 0 0 0 3\n",
      " 0 0 0 0 0 0 0 2 0 2 2 0 0 0 0 0 0 2 0 0 2 0 2 0 0 3 0 2 0 2 2 0 0 0 0 0 0\n",
      " 0 0 0 2 0 0 0 0 3 3 4 0 4 4 3 0 0 3 3 3 0 0 0 5 0 0 0 1 1 1 2 0 2 2 0 0 0\n",
      " 0 2 2 2 0 1 0 0 0 0 1 1 1 0 0 0 0 3 3 0 3 0 0 0 0 1 0 0 0 0 0 0 0 2 0 2 2\n",
      " 0 0 0 0 0 0 2 0 0 1 0 0 0 3 3 0 1 0 1 2 0 3 0 0 0 0 0 0 0 1 0 0 0 3 0 0 1\n",
      " 0 1 1 0 3 0 3 0 3 3 0 3 1 0 0 0 1 1 1 2 0 2 2 0 0 0 0 2 2 2 0 1 2 0 2 0 1\n",
      " 1 1 2 0 2 2 3 3 0 3 2 2 2 0 1 2 3 2 0 3 3 3 2 0 1 1 3 3 0 3 2 2 2 0 3 1 3\n",
      " 2 0 3 3 3 1 0 1 2 3 3 0 3 0 0 0 0 3 1 3 0 0 3 3 3 1 0 1 1 3 3 0 3 0 0 3 0\n",
      " 3 1 3 0 0 1 1 1 1 0 1 1 0 0 0 0 1 1 1 0 1 1 0 1 0 1 1 1 1 0 2 1 1 1 0 1 2\n",
      " 2 1 0 1 2 1 2 0 3 3 3 1 0 1 1 3 3 0 1 1 1 1 0 1 1 1 1 0 1 1 1 1 0 2 1 1 1\n",
      " 0 1 0 0 0 0 1 1 1 0 0 3 1 1 1 0 1 1 3 3 0 1 3 3 0 0 3 1 3 0 0 1 1 1 1 0 1\n",
      " 1 4 4 0 4 1 1 1 0 1 1 5 1 0 1 1 1 1 0 1 1 1 1 0 1 2 1 2 0 1 1 1 1 0 3 1 1\n",
      " 1 0 1 1 1 3 0 1 1 1 1 0 1 1 1 1 0 1 1 1 1 0 1 1 1 1 0 1 4 4 4 0 1 1 1 5 0\n",
      " 3 1 3 1 0 1 1 1 1 0 1 3 3 3 0 1 1 1 3]\n",
      "Converge time: 12.05768895149231\n"
     ]
    }
   ],
   "source": [
    "plt.plot(np.arange(len(V_mean_list)), V_mean_list)\n",
    "plt.xlabel('Episodes')\n",
    "plt.ylabel('Mean Value by Episode')\n",
    "plt.title('Updated Value by Q-learning')\n",
    "plt.savefig('MDP2_Qlearning_update.jpg')\n",
    "plt.show()\n",
    "print(\"Number of iteration:\", len(V_mean_list))\n",
    "print(\"Optimal policy:\", policy)\n",
    "print(\"Converge time:\", converge_time)"
   ]
  },
  {
   "cell_type": "markdown",
   "id": "d7404336",
   "metadata": {},
   "source": [
    "### MDP2 solved by Q-learning with Eplison decreasing exploration strategy"
   ]
  },
  {
   "cell_type": "code",
   "execution_count": 339,
   "id": "3a6e7bb1",
   "metadata": {},
   "outputs": [
    {
     "name": "stdout",
     "output_type": "stream",
     "text": [
      "Optimal policy: [0 4 4 4 0 0 2 2 0 0 0 0 0 2 2 0 5 0 0 0 0 3 3 3 0 0 0 0 0 3 0 0 0 0 0 0 3\n",
      " 0 3 0 0 0 0 0 2 0 2 2 0 0 0 0 0 0 2 0 0 2 0 0 0 0 0 0 2 0 2 2 0 0 0 0 0 0\n",
      " 0 0 0 2 0 0 0 0 3 0 4 0 4 4 0 3 0 0 0 0 3 0 0 5 3 3 0 1 1 1 0 0 0 0 0 0 0\n",
      " 0 2 0 0 0 1 2 0 0 0 3 3 3 0 0 0 0 0 0 0 0 0 0 0 0 3 0 3 0 0 0 0 0 2 0 2 2\n",
      " 0 0 0 0 0 0 2 0 0 2 0 2 0 0 0 3 1 0 1 2 3 3 0 3 0 0 0 0 0 2 0 0 0 3 3 3 1\n",
      " 0 1 1 3 0 0 0 3 3 0 0 3 1 3 3 0 1 1 1 2 0 2 2 0 0 0 0 2 2 2 0 1 2 0 2 0 3\n",
      " 3 1 2 0 2 2 3 3 0 3 2 2 2 0 3 2 3 2 0 3 3 3 2 0 2 1 3 3 0 3 2 2 2 0 3 1 3\n",
      " 2 0 3 3 3 2 0 1 1 3 3 0 3 0 0 0 0 3 1 3 0 0 3 3 3 1 0 1 1 3 3 0 3 0 3 3 0\n",
      " 3 1 3 3 0 1 1 1 1 0 1 1 0 0 0 0 1 1 1 0 1 1 0 1 0 1 1 1 1 0 2 1 1 1 0 1 1\n",
      " 1 1 0 1 3 1 2 0 3 1 1 1 0 1 1 1 3 0 1 1 1 1 0 1 1 1 1 0 1 1 1 1 0 1 1 1 1\n",
      " 0 1 0 0 0 0 1 1 1 0 0 1 3 3 1 0 1 1 3 1 0 3 3 3 0 0 2 1 3 3 0 1 1 1 1 0 1\n",
      " 1 4 4 0 4 1 1 1 0 1 1 5 1 0 1 1 1 1 0 1 1 1 1 0 1 1 1 1 0 2 2 2 0 0 1 1 1\n",
      " 1 0 1 1 1 1 0 3 1 1 1 0 0 2 0 3 0 1 1 1 1 0 1 2 1 1 0 1 4 4 4 0 1 1 1 5 0\n",
      " 3 1 3 1 0 1 1 3 1 0 3 3 3 3 0 3 1 1 3]\n",
      "Total time: 7.9488136768341064\n"
     ]
    }
   ],
   "source": [
    "import numpy as np\n",
    "import gym\n",
    "\n",
    "env = gym.make('Taxi-v3')\n",
    "\n",
    "n_states = env.observation_space.n\n",
    "n_actions = env.action_space.n\n",
    "\n",
    "# Initialize the Q-table\n",
    "Q = np.zeros((n_states, n_actions))\n",
    "\n",
    "# Q-learning parameters\n",
    "alpha = 0.1\n",
    "gamma = 0.99\n",
    "epsilon = 1.0\n",
    "epsilon_min = 0.01\n",
    "epsilon_decay = 0.995\n",
    "n_episodes = 5000\n",
    "\n",
    "V_mean_list = []\n",
    "\n",
    "start_time = time.time()\n",
    "for episode in range(n_episodes):\n",
    "    state = env.reset()\n",
    "    done = False\n",
    "\n",
    "    while not done:\n",
    "        # Choose action using epsilon-decreasing exploration strategy\n",
    "        if np.random.rand() < epsilon:\n",
    "            action = env.action_space.sample()\n",
    "        else:\n",
    "            action = np.argmax(Q[state])\n",
    "\n",
    "        # Take action and observe next state, reward, and done\n",
    "        next_state, reward, done, _ = env.step(action)\n",
    "\n",
    "        # Update Q-table using Q-learning update rule\n",
    "        Q[state, action] += alpha * (reward + gamma * np.max(Q[next_state]) - Q[state, action])\n",
    "        V_mean = np.max(Q, axis = 1).mean()\n",
    "        V_mean_list.append(V_mean)\n",
    "\n",
    "        state = next_state\n",
    "\n",
    "    # Decrease epsilon over episodes\n",
    "    epsilon = max(epsilon_min, epsilon * epsilon_decay)\n",
    "total_time = time.time() - start_time\n",
    "# Compute the optimal policy\n",
    "policy = np.argmax(Q, axis=1)\n",
    "print(\"Optimal policy:\", policy)\n",
    "print(\"Total time:\", total_time)\n"
   ]
  },
  {
   "cell_type": "code",
   "execution_count": 340,
   "id": "07ef1ed2",
   "metadata": {},
   "outputs": [
    {
     "name": "stdout",
     "output_type": "stream",
     "text": [
      "Average total reward over 1000 episodes: 7.946\n"
     ]
    }
   ],
   "source": [
    "n_episodes = 1000\n",
    "total_rewards = []\n",
    "for _ in range(n_episodes):\n",
    "    total_reward = get_total_reward(env, policy)\n",
    "    total_rewards.append(total_reward)\n",
    "    \n",
    "average_total_reward = np.mean(total_rewards)\n",
    "print(f\"Average total reward over {n_episodes} episodes: {average_total_reward}\")"
   ]
  },
  {
   "cell_type": "code",
   "execution_count": 341,
   "id": "f504fe84",
   "metadata": {
    "scrolled": false
   },
   "outputs": [
    {
     "data": {
      "image/png": "[encoded data removed]",
      "text/plain": [
       "<Figure size 432x288 with 1 Axes>"
      ]
     },
     "metadata": {
      "needs_background": "light"
     },
     "output_type": "display_data"
    },
    {
     "name": "stdout",
     "output_type": "stream",
     "text": [
      "Number of iteration: 146902\n",
      "Optimal policy: [0 4 4 4 0 0 2 2 0 0 0 0 0 2 2 0 5 0 0 0 0 3 3 3 0 0 0 0 0 3 0 0 0 0 0 0 3\n",
      " 0 3 0 0 0 0 0 2 0 2 2 0 0 0 0 0 0 2 0 0 2 0 0 0 0 0 0 2 0 2 2 0 0 0 0 0 0\n",
      " 0 0 0 2 0 0 0 0 3 0 4 0 4 4 0 3 0 0 0 0 3 0 0 5 3 3 0 1 1 1 0 0 0 0 0 0 0\n",
      " 0 2 0 0 0 1 2 0 0 0 3 3 3 0 0 0 0 0 0 0 0 0 0 0 0 3 0 3 0 0 0 0 0 2 0 2 2\n",
      " 0 0 0 0 0 0 2 0 0 2 0 2 0 0 0 3 1 0 1 2 3 3 0 3 0 0 0 0 0 2 0 0 0 3 3 3 1\n",
      " 0 1 1 3 0 0 0 3 3 0 0 3 1 3 3 0 1 1 1 2 0 2 2 0 0 0 0 2 2 2 0 1 2 0 2 0 3\n",
      " 3 1 2 0 2 2 3 3 0 3 2 2 2 0 3 2 3 2 0 3 3 3 2 0 2 1 3 3 0 3 2 2 2 0 3 1 3\n",
      " 2 0 3 3 3 2 0 1 1 3 3 0 3 0 0 0 0 3 1 3 0 0 3 3 3 1 0 1 1 3 3 0 3 0 3 3 0\n",
      " 3 1 3 3 0 1 1 1 1 0 1 1 0 0 0 0 1 1 1 0 1 1 0 1 0 1 1 1 1 0 2 1 1 1 0 1 1\n",
      " 1 1 0 1 3 1 2 0 3 1 1 1 0 1 1 1 3 0 1 1 1 1 0 1 1 1 1 0 1 1 1 1 0 1 1 1 1\n",
      " 0 1 0 0 0 0 1 1 1 0 0 1 3 3 1 0 1 1 3 1 0 3 3 3 0 0 2 1 3 3 0 1 1 1 1 0 1\n",
      " 1 4 4 0 4 1 1 1 0 1 1 5 1 0 1 1 1 1 0 1 1 1 1 0 1 1 1 1 0 2 2 2 0 0 1 1 1\n",
      " 1 0 1 1 1 1 0 3 1 1 1 0 0 2 0 3 0 1 1 1 1 0 1 2 1 1 0 1 4 4 4 0 1 1 1 5 0\n",
      " 3 1 3 1 0 1 1 3 1 0 3 3 3 3 0 3 1 1 3]\n",
      "Converge time: 7.9488136768341064\n"
     ]
    }
   ],
   "source": [
    "plt.plot(np.arange(len(V_mean_list)), V_mean_list)\n",
    "plt.xlabel('Episodes')\n",
    "plt.ylabel('Mean Value by Episode')\n",
    "plt.title('Updated Value by Q-learning')\n",
    "plt.savefig('MDP2_Qlearning_update.jpg')\n",
    "plt.show()\n",
    "print(\"Number of iteration:\", len(V_mean_list))\n",
    "print(\"Optimal policy:\", policy)\n",
    "print(\"Converge time:\", total_time)"
   ]
  },
  {
   "cell_type": "markdown",
   "id": "5411f98e",
   "metadata": {},
   "source": [
    "### MDP2 solved by Q-learning with Upper Confidence Bound (UCB)"
   ]
  },
  {
   "cell_type": "code",
   "execution_count": 342,
   "id": "259b588e",
   "metadata": {},
   "outputs": [
    {
     "name": "stderr",
     "output_type": "stream",
     "text": [
      "/var/folders/vv/609pfdw549g221wv1wnwr92h0000gp/T/ipykernel_81486/3381205512.py:7: RuntimeWarning: divide by zero encountered in log\n",
      "  exploration_bonus = c * np.sqrt(np.log(np.sum(n_visits)) / (n_visits + 1e-6))\n",
      "/var/folders/vv/609pfdw549g221wv1wnwr92h0000gp/T/ipykernel_81486/3381205512.py:7: RuntimeWarning: invalid value encountered in sqrt\n",
      "  exploration_bonus = c * np.sqrt(np.log(np.sum(n_visits)) / (n_visits + 1e-6))\n"
     ]
    },
    {
     "name": "stdout",
     "output_type": "stream",
     "text": [
      "Optimal policy: [0 4 4 4 2 0 0 0 0 0 0 0 2 2 0 0 5 0 0 0 0 3 3 3 0 0 0 0 0 0 0 0 0 0 0 0 3\n",
      " 0 3 0 0 0 0 0 2 0 2 2 0 0 0 0 2 0 2 0 0 1 0 0 0 0 3 0 2 0 2 2 0 0 0 0 0 0\n",
      " 0 0 0 2 0 0 0 0 0 3 4 0 4 4 3 3 0 0 3 0 3 0 0 5 0 0 0 1 1 1 2 0 0 0 0 0 0\n",
      " 0 2 2 0 0 1 0 0 2 0 3 3 3 0 0 0 0 0 0 0 0 0 0 0 0 3 0 0 0 0 0 0 0 1 0 2 2\n",
      " 0 0 0 0 0 0 2 0 0 2 0 2 0 0 0 0 1 0 2 2 0 0 0 3 0 0 0 0 3 2 0 0 0 0 0 3 1\n",
      " 0 1 1 3 3 0 0 0 3 3 0 3 1 3 3 0 1 1 1 2 0 2 2 0 0 0 0 2 2 2 0 1 2 0 2 0 1\n",
      " 1 1 2 0 2 2 3 3 0 3 2 2 2 0 3 2 3 2 0 3 3 3 1 0 1 1 3 3 0 3 2 2 2 0 3 2 3\n",
      " 2 0 3 3 3 1 0 1 1 3 3 0 3 0 0 0 0 3 2 3 0 0 3 3 3 1 0 1 1 3 3 0 3 3 3 3 0\n",
      " 3 1 3 3 0 1 1 1 1 0 1 1 0 0 0 0 1 1 1 0 1 1 0 1 0 1 1 1 2 0 1 2 1 1 0 1 1\n",
      " 1 1 0 3 0 1 2 0 3 1 1 1 0 1 1 1 1 0 1 1 1 1 0 2 1 1 3 0 1 1 1 2 0 2 2 1 1\n",
      " 0 1 0 0 0 0 1 1 1 0 0 1 1 3 1 0 1 1 1 3 0 1 3 0 3 0 1 1 1 3 0 1 1 1 1 0 1\n",
      " 1 4 4 0 4 1 1 1 0 1 1 5 1 0 1 1 1 2 0 1 2 1 1 0 1 1 1 1 0 0 2 0 2 0 3 1 1\n",
      " 1 0 1 1 1 1 0 1 1 1 1 0 3 0 0 1 0 1 1 1 1 0 1 2 1 1 0 1 4 4 4 0 1 1 1 5 0\n",
      " 3 1 1 1 0 1 1 3 3 0 1 3 3 3 0 0 1 3 3]\n",
      "Total_time: 9.034614086151123\n"
     ]
    }
   ],
   "source": [
    "import numpy as np\n",
    "import gym\n",
    "\n",
    "def ucb_exploration(Q, N, state, c):\n",
    "    q_values = Q[state]\n",
    "    n_visits = N[state]\n",
    "    exploration_bonus = c * np.sqrt(np.log(np.sum(n_visits)) / (n_visits + 1e-6))\n",
    "    ucb_values = q_values + exploration_bonus\n",
    "    action = np.argmax(ucb_values)\n",
    "    return action\n",
    "\n",
    "env = gym.make('Taxi-v3')\n",
    "\n",
    "n_states = env.observation_space.n\n",
    "n_actions = env.action_space.n\n",
    "\n",
    "# Initialize the Q-table and visit counts\n",
    "Q = np.zeros((n_states, n_actions))\n",
    "N = np.zeros((n_states, n_actions))\n",
    "\n",
    "# Q-learning parameters\n",
    "alpha = 0.1\n",
    "gamma = 0.99\n",
    "c = 0.1\n",
    "n_episodes = 5000\n",
    "start_time = time.time()\n",
    "V_mean_list = []\n",
    "for episode in range(n_episodes):\n",
    "    state = env.reset()\n",
    "    done = False\n",
    "\n",
    "    while not done:\n",
    "        # Choose action using UCB exploration strategy\n",
    "        action = ucb_exploration(Q, N, state, c)\n",
    "\n",
    "        # Take action and observe next state, reward, and done\n",
    "        next_state, reward, done, _ = env.step(action)\n",
    "\n",
    "        # Update Q-table using Q-learning update rule\n",
    "        Q[state, action] += alpha * (reward + gamma * np.max(Q[next_state]) - Q[state, action])\n",
    "        V_mean = np.max(Q, axis = 1).mean()\n",
    "        V_mean_list.append(V_mean)\n",
    "\n",
    "        # Update visit counts\n",
    "        N[state, action] += 1\n",
    "\n",
    "        state = next_state\n",
    "total_time = time.time() - start_time\n",
    "# Compute the optimal policy\n",
    "policy = np.argmax(Q, axis=1)\n",
    "print(\"Optimal policy:\", policy)\n",
    "print(\"Total_time:\", total_time)\n",
    "\n"
   ]
  },
  {
   "cell_type": "code",
   "execution_count": 343,
   "id": "d65b8705",
   "metadata": {},
   "outputs": [
    {
     "name": "stdout",
     "output_type": "stream",
     "text": [
      "Average total reward over 1000 episodes: 7.983\n"
     ]
    }
   ],
   "source": [
    "n_episodes = 1000\n",
    "total_rewards = []\n",
    "for _ in range(n_episodes):\n",
    "    total_reward = get_total_reward(env, policy)\n",
    "    total_rewards.append(total_reward)\n",
    "    \n",
    "average_total_reward = np.mean(total_rewards)\n",
    "print(f\"Average total reward over {n_episodes} episodes: {average_total_reward}\")"
   ]
  },
  {
   "cell_type": "code",
   "execution_count": 344,
   "id": "3c594295",
   "metadata": {},
   "outputs": [
    {
     "data": {
      "image/png": "[encoded data removed]",
      "text/plain": [
       "<Figure size 432x288 with 1 Axes>"
      ]
     },
     "metadata": {
      "needs_background": "light"
     },
     "output_type": "display_data"
    },
    {
     "name": "stdout",
     "output_type": "stream",
     "text": [
      "Number of iteration: 138173\n",
      "Optimal policy: [0 4 4 4 2 0 0 0 0 0 0 0 2 2 0 0 5 0 0 0 0 3 3 3 0 0 0 0 0 0 0 0 0 0 0 0 3\n",
      " 0 3 0 0 0 0 0 2 0 2 2 0 0 0 0 2 0 2 0 0 1 0 0 0 0 3 0 2 0 2 2 0 0 0 0 0 0\n",
      " 0 0 0 2 0 0 0 0 0 3 4 0 4 4 3 3 0 0 3 0 3 0 0 5 0 0 0 1 1 1 2 0 0 0 0 0 0\n",
      " 0 2 2 0 0 1 0 0 2 0 3 3 3 0 0 0 0 0 0 0 0 0 0 0 0 3 0 0 0 0 0 0 0 1 0 2 2\n",
      " 0 0 0 0 0 0 2 0 0 2 0 2 0 0 0 0 1 0 2 2 0 0 0 3 0 0 0 0 3 2 0 0 0 0 0 3 1\n",
      " 0 1 1 3 3 0 0 0 3 3 0 3 1 3 3 0 1 1 1 2 0 2 2 0 0 0 0 2 2 2 0 1 2 0 2 0 1\n",
      " 1 1 2 0 2 2 3 3 0 3 2 2 2 0 3 2 3 2 0 3 3 3 1 0 1 1 3 3 0 3 2 2 2 0 3 2 3\n",
      " 2 0 3 3 3 1 0 1 1 3 3 0 3 0 0 0 0 3 2 3 0 0 3 3 3 1 0 1 1 3 3 0 3 3 3 3 0\n",
      " 3 1 3 3 0 1 1 1 1 0 1 1 0 0 0 0 1 1 1 0 1 1 0 1 0 1 1 1 2 0 1 2 1 1 0 1 1\n",
      " 1 1 0 3 0 1 2 0 3 1 1 1 0 1 1 1 1 0 1 1 1 1 0 2 1 1 3 0 1 1 1 2 0 2 2 1 1\n",
      " 0 1 0 0 0 0 1 1 1 0 0 1 1 3 1 0 1 1 1 3 0 1 3 0 3 0 1 1 1 3 0 1 1 1 1 0 1\n",
      " 1 4 4 0 4 1 1 1 0 1 1 5 1 0 1 1 1 2 0 1 2 1 1 0 1 1 1 1 0 0 2 0 2 0 3 1 1\n",
      " 1 0 1 1 1 1 0 1 1 1 1 0 3 0 0 1 0 1 1 1 1 0 1 2 1 1 0 1 4 4 4 0 1 1 1 5 0\n",
      " 3 1 1 1 0 1 1 3 3 0 1 3 3 3 0 0 1 3 3]\n",
      "Converge time: 9.034614086151123\n"
     ]
    }
   ],
   "source": [
    "plt.plot(np.arange(len(V_mean_list)), V_mean_list)\n",
    "plt.xlabel('Episodes')\n",
    "plt.ylabel('Mean Value by Episode')\n",
    "plt.title('Updated Value by Q-learning')\n",
    "#plt.savefig('MDP2_Qlearning_update.jpg')\n",
    "plt.show()\n",
    "print(\"Number of iteration:\", len(V_mean_list))\n",
    "print(\"Optimal policy:\", policy)\n",
    "print(\"Converge time:\", total_time)"
   ]
  },
  {
   "cell_type": "markdown",
   "id": "285e4a42",
   "metadata": {},
   "source": [
    "### MDP3: Mountain Car Problem"
   ]
  },
  {
   "cell_type": "code",
   "execution_count": 284,
   "id": "2e6c3d4a",
   "metadata": {},
   "outputs": [],
   "source": [
    "import matplotlib.pyplot as plt"
   ]
  },
  {
   "cell_type": "code",
   "execution_count": 285,
   "id": "04a7c124",
   "metadata": {},
   "outputs": [],
   "source": [
    "import numpy as np\n",
    "import gym\n",
    "\n",
    "# Load the MountainCar-v0 environment\n",
    "env = gym.make('MountainCar-v0')\n",
    "\n",
    "# Discretize the state space\n",
    "position_bins = np.linspace(env.observation_space.low[0], env.observation_space.high[0], 40)\n",
    "velocity_bins = np.linspace(env.observation_space.low[1], env.observation_space.high[1], 40)\n",
    "\n",
    "\n",
    "def discretize_state(state):\n",
    "    position, velocity = state\n",
    "    position_idx = np.digitize(position, position_bins) - 1\n",
    "    velocity_idx = np.digitize(velocity, velocity_bins) - 1\n",
    "    return position_idx * (len(velocity_bins) - 1) + velocity_idx\n",
    "\n",
    "\n",
    "n_states = (len(position_bins) - 1) * (len(velocity_bins) - 1)\n",
    "n_actions = env.action_space.n\n",
    "\n",
    "# Create a custom MDP\n",
    "mdp = np.zeros((n_states, n_actions, n_states), dtype=[('prob', float), ('reward', float)])\n",
    "\n",
    "n_samples = 10000\n",
    "for _ in range(n_samples):\n",
    "    state = env.reset()\n",
    "    s = discretize_state(state)\n",
    "    \n",
    "    for a in range(n_actions):\n",
    "        next_state, reward, _, _ = env.step(a)\n",
    "        s_next = discretize_state(next_state)\n",
    "        mdp[s, a, s_next]['prob'] = 1.0\n",
    "        mdp[s, a, s_next]['reward'] = reward\n"
   ]
  },
  {
   "cell_type": "code",
   "execution_count": 286,
   "id": "f46a56d7",
   "metadata": {},
   "outputs": [
    {
     "data": {
      "text/plain": [
       "1521"
      ]
     },
     "execution_count": 286,
     "metadata": {},
     "output_type": "execute_result"
    }
   ],
   "source": [
    "n_states"
   ]
  },
  {
   "cell_type": "code",
   "execution_count": 287,
   "id": "9b9ddd64",
   "metadata": {},
   "outputs": [
    {
     "data": {
      "text/plain": [
       "(array([526, 526, 526, 526, 526, 565, 565, 565, 565, 565, 565, 604, 604,\n",
       "        604, 604, 604, 604, 604, 643, 643, 643, 643, 643, 643, 643, 643,\n",
       "        682, 682, 682, 682, 682, 682]),\n",
       " array([0, 0, 1, 1, 2, 0, 0, 1, 1, 2, 2, 0, 0, 1, 1, 1, 2, 2, 0, 0, 0, 1,\n",
       "        1, 2, 2, 2, 0, 0, 1, 1, 2, 2]),\n",
       " array([487, 526, 487, 526, 526, 526, 565, 526, 565, 526, 565, 565, 604,\n",
       "        565, 603, 604, 565, 604, 604, 642, 643, 603, 642, 604, 642, 643,\n",
       "        642, 681, 642, 681, 642, 681]))"
      ]
     },
     "execution_count": 287,
     "metadata": {},
     "output_type": "execute_result"
    }
   ],
   "source": [
    "np.where(mdp['prob'] != 0)"
   ]
  },
  {
   "cell_type": "code",
   "execution_count": 299,
   "id": "3a4ff160",
   "metadata": {},
   "outputs": [
    {
     "data": {
      "text/plain": [
       "{526, 565, 604, 643, 682}"
      ]
     },
     "execution_count": 299,
     "metadata": {},
     "output_type": "execute_result"
    }
   ],
   "source": [
    "set(np.where(mdp['prob'] != 0)[0])"
   ]
  },
  {
   "cell_type": "code",
   "execution_count": 302,
   "id": "167192ce",
   "metadata": {},
   "outputs": [
    {
     "data": {
      "text/plain": [
       "{487, 526, 565, 603, 604, 642, 643, 681}"
      ]
     },
     "execution_count": 302,
     "metadata": {},
     "output_type": "execute_result"
    }
   ],
   "source": [
    "set(np.where(mdp['prob'] != 0)[2])"
   ]
  },
  {
   "cell_type": "markdown",
   "id": "125bf70c",
   "metadata": {},
   "source": [
    "### MDP3 solve by Value Iteration"
   ]
  },
  {
   "cell_type": "code",
   "execution_count": 288,
   "id": "eaab490f",
   "metadata": {},
   "outputs": [],
   "source": [
    "# Value iteration\n",
    "V = np.zeros(n_states)\n",
    "threshold = 0.001\n",
    "gamma = 0.99\n",
    "start_time = time.time()\n",
    "n = 0\n",
    "V_delta_list = []\n",
    "while True:\n",
    "    V_new = np.zeros(n_states)\n",
    "    for s in range(n_states):\n",
    "        q_values = np.sum(mdp[s]['prob'] * (mdp[s]['reward'] + gamma * V), axis=1)\n",
    "        V_new[s] = np.max(q_values)\n",
    "    \n",
    "    n += 1\n",
    "    V_delta_max = np.max(np.abs(V - V_new))\n",
    "    \n",
    "    if V_delta_max < threshold:\n",
    "        break\n",
    "        \n",
    "    V_delta_list.append(V_delta_max)\n",
    "    V = V_new\n",
    "    \n",
    "converge_time = time.time() - start_time\n"
   ]
  },
  {
   "cell_type": "code",
   "execution_count": 289,
   "id": "0ff2f0b4",
   "metadata": {},
   "outputs": [
    {
     "data": {
      "image/png": "[encoded data removed]",
      "text/plain": [
       "<Figure size 432x288 with 1 Axes>"
      ]
     },
     "metadata": {
      "needs_background": "light"
     },
     "output_type": "display_data"
    },
    {
     "name": "stdout",
     "output_type": "stream",
     "text": [
      "Number of iteration: 2146\n",
      "Optimal policy: [0 0 0 ... 0 0 0]\n",
      "Converge time: 63.15953993797302\n"
     ]
    }
   ],
   "source": [
    "plt.plot(np.arange(n-1), V_delta_list)\n",
    "plt.xlabel('Iteration')\n",
    "plt.ylabel('Value Abs Delta Max')\n",
    "plt.title('Updated Value by Iteration')\n",
    "plt.savefig('MDP3_value_update.jpg')\n",
    "plt.show()\n",
    "\n",
    "# Compute the optimal policy\n",
    "policy = np.zeros(n_states, dtype=int)\n",
    "for s in range(n_states):\n",
    "    q_values = np.sum(mdp[s]['prob'] * (mdp[s]['reward'] + gamma * V), axis=1)\n",
    "    policy[s] = np.argmax(q_values)\n",
    "print(\"Number of iteration:\", n)\n",
    "print(\"Optimal policy:\", policy)\n",
    "print(\"Converge time:\", converge_time)\n"
   ]
  },
  {
   "cell_type": "code",
   "execution_count": 290,
   "id": "3d8ec109",
   "metadata": {},
   "outputs": [
    {
     "data": {
      "text/plain": [
       "(array([526, 643]),)"
      ]
     },
     "execution_count": 290,
     "metadata": {},
     "output_type": "execute_result"
    }
   ],
   "source": [
    "np.where(policy!=0)"
   ]
  },
  {
   "cell_type": "code",
   "execution_count": 291,
   "id": "56eb7f01",
   "metadata": {},
   "outputs": [
    {
     "data": {
      "text/plain": [
       "2"
      ]
     },
     "execution_count": 291,
     "metadata": {},
     "output_type": "execute_result"
    }
   ],
   "source": [
    "policy[526]"
   ]
  },
  {
   "cell_type": "code",
   "execution_count": 292,
   "id": "ae617c82",
   "metadata": {},
   "outputs": [
    {
     "data": {
      "text/plain": [
       "1"
      ]
     },
     "execution_count": 292,
     "metadata": {},
     "output_type": "execute_result"
    }
   ],
   "source": [
    "policy[643]"
   ]
  },
  {
   "cell_type": "code",
   "execution_count": 293,
   "id": "2adeec16",
   "metadata": {},
   "outputs": [],
   "source": [
    "def get_total_reward_mc(env, policy):\n",
    "    s = discretize_state(env.reset())\n",
    "    total_reward = 0\n",
    "    done = False\n",
    "    \n",
    "    while not done:\n",
    "        a = policy[s]\n",
    "        s, r, done, _ = env.step(a)\n",
    "        s = discretize_state(s)\n",
    "        total_reward += r\n",
    "    return total_reward"
   ]
  },
  {
   "cell_type": "code",
   "execution_count": 294,
   "id": "213da110",
   "metadata": {},
   "outputs": [
    {
     "name": "stdout",
     "output_type": "stream",
     "text": [
      "Average total reward over 1 episodes: -200.0\n"
     ]
    }
   ],
   "source": [
    "n_episodes = 1\n",
    "total_rewards = []\n",
    "for _ in range(n_episodes):\n",
    "    total_reward = get_total_reward_mc(env, policy)\n",
    "    total_rewards.append(total_reward)\n",
    "    \n",
    "average_total_reward = np.mean(total_rewards)\n",
    "print(f\"Average total reward over {n_episodes} episodes: {average_total_reward}\")"
   ]
  },
  {
   "cell_type": "markdown",
   "id": "9c4c1579",
   "metadata": {},
   "source": [
    "### MDP3 solve by Policy Iteration"
   ]
  },
  {
   "cell_type": "code",
   "execution_count": 269,
   "id": "8f497db2",
   "metadata": {},
   "outputs": [
    {
     "name": "stdout",
     "output_type": "stream",
     "text": [
      "Optimal policy: [0 0 0 ... 0 0 0]\n"
     ]
    }
   ],
   "source": [
    "env = gym.make('MountainCar-v0')\n",
    "# Transition probabilities and rewards\n",
    "P = mdp['prob']\n",
    "R = mdp['reward']\n",
    "\n",
    "# Policy evaluation\n",
    "def evaluate_policy(policy, P, R, gamma, threshold):\n",
    " \n",
    "    V = np.zeros(n_states)\n",
    "    n = 0\n",
    "    V_delta_list = []\n",
    "    while True:\n",
    "        V_new = np.zeros(n_states)\n",
    "        for s in range(n_states):\n",
    "            a = policy[s]\n",
    "            V_new[s] = np.sum(P[s, a] * (R[s, a] + gamma * V))\n",
    "        n += 1\n",
    "        V_delta_max = np.max(np.abs(V - V_new))\n",
    "        V_delta_list.append(V_delta_max)\n",
    "        \n",
    "        if V_delta_max < threshold:\n",
    "            break\n",
    " \n",
    "        \n",
    "        \n",
    "        V = V_new\n",
    "    return V, n, V_delta_list\n",
    "\n",
    "# Initialize the policy\n",
    "#policy = np.zeros(n_states, dtype=int)\n",
    "policy = np.random.choice(2, size=n_states)\n",
    "\n",
    "# Policy iteration\n",
    "gamma = 0.99\n",
    "threshold = 0.001\n",
    "policy_stable = False\n",
    "i = 0\n",
    "total_time = 0\n",
    "value_max_list = []\n",
    "start_time = time.time()\n",
    "while not policy_stable:\n",
    "    V, n, V_delta_list = evaluate_policy(policy, P, R, gamma, threshold)\n",
    "    i += n\n",
    "    value_max_list = value_max_list + V_delta_list\n",
    "    \n",
    "    policy_stable = True\n",
    "    for s in range(n_states):\n",
    "        old_action = policy[s]\n",
    "        q_values = np.sum(P[s] * (R[s] + gamma * V), axis=1)\n",
    "        policy[s] = np.argmax(q_values)\n",
    "        \n",
    "        if old_action != policy[s]:\n",
    "            policy_stable = False\n",
    "converge_time = time.time() - start_time\n",
    "print(\"Optimal policy:\", policy)\n"
   ]
  },
  {
   "cell_type": "code",
   "execution_count": 271,
   "id": "f97c0598",
   "metadata": {},
   "outputs": [
    {
     "data": {
      "text/plain": [
       "(array([526, 643]),)"
      ]
     },
     "execution_count": 271,
     "metadata": {},
     "output_type": "execute_result"
    }
   ],
   "source": [
    "np.where(policy!=0)"
   ]
  },
  {
   "cell_type": "code",
   "execution_count": 273,
   "id": "698bb7fa",
   "metadata": {},
   "outputs": [
    {
     "data": {
      "text/plain": [
       "2"
      ]
     },
     "execution_count": 273,
     "metadata": {},
     "output_type": "execute_result"
    }
   ],
   "source": [
    "policy[526]"
   ]
  },
  {
   "cell_type": "code",
   "execution_count": 274,
   "id": "ab609faa",
   "metadata": {},
   "outputs": [
    {
     "data": {
      "text/plain": [
       "1"
      ]
     },
     "execution_count": 274,
     "metadata": {},
     "output_type": "execute_result"
    }
   ],
   "source": [
    "policy[643]"
   ]
  },
  {
   "cell_type": "code",
   "execution_count": 272,
   "id": "50c5ba7f",
   "metadata": {},
   "outputs": [
    {
     "data": {
      "text/plain": [
       "1521"
      ]
     },
     "execution_count": 272,
     "metadata": {},
     "output_type": "execute_result"
    }
   ],
   "source": [
    "len(policy)"
   ]
  },
  {
   "cell_type": "code",
   "execution_count": 267,
   "id": "7413d942",
   "metadata": {},
   "outputs": [
    {
     "data": {
      "image/png": "[encoded data removed]",
      "text/plain": [
       "<Figure size 432x288 with 1 Axes>"
      ]
     },
     "metadata": {
      "needs_background": "light"
     },
     "output_type": "display_data"
    },
    {
     "name": "stdout",
     "output_type": "stream",
     "text": [
      "Number of iteration: 4368\n",
      "Optimal policy: [0 0 0 ... 0 0 0]\n",
      "Converge time: 62.999403953552246\n"
     ]
    }
   ],
   "source": [
    "plt.plot(np.arange(i), value_max_list)\n",
    "plt.xlabel('Iteration')\n",
    "plt.ylabel('Value Abs Delta Max')\n",
    "plt.title('Updated Value by Policy Iteration')\n",
    "plt.savefig('MDP3_policy_update.jpg')\n",
    "plt.show()\n",
    "print(\"Number of iteration:\", i)\n",
    "print(\"Optimal policy:\", policy)\n",
    "print(\"Converge time:\", converge_time)"
   ]
  },
  {
   "cell_type": "code",
   "execution_count": 268,
   "id": "62d6786d",
   "metadata": {},
   "outputs": [
    {
     "name": "stdout",
     "output_type": "stream",
     "text": [
      "Average total reward over 100 episodes: -200.0\n"
     ]
    }
   ],
   "source": [
    "n_episodes = 100\n",
    "total_rewards = []\n",
    "for _ in range(n_episodes):\n",
    "    total_reward = get_total_reward_mc(env, policy)\n",
    "    total_rewards.append(total_reward)\n",
    "    \n",
    "average_total_reward = np.mean(total_rewards)\n",
    "print(f\"Average total reward over {n_episodes} episodes: {average_total_reward}\")"
   ]
  },
  {
   "cell_type": "markdown",
   "id": "ec3b943c",
   "metadata": {},
   "source": [
    "### MDP3 solve by Q-learning"
   ]
  },
  {
   "cell_type": "code",
   "execution_count": 351,
   "id": "d18fa96e",
   "metadata": {},
   "outputs": [
    {
     "name": "stdout",
     "output_type": "stream",
     "text": [
      "Optimal policy: [0 0 0 ... 0 0 0]\n",
      "Total time: 968.4948537349701\n"
     ]
    }
   ],
   "source": [
    "# Discretize the state space\n",
    "position_bins = np.linspace(env.observation_space.low[0], env.observation_space.high[0], 40)\n",
    "velocity_bins = np.linspace(env.observation_space.low[1], env.observation_space.high[1], 40)\n",
    "\n",
    "def discretize_state(state):\n",
    "    position, velocity = state\n",
    "    position_idx = np.digitize(position, position_bins) - 1\n",
    "    velocity_idx = np.digitize(velocity, velocity_bins) - 1\n",
    "    return position_idx * (len(velocity_bins) - 1) + velocity_idx\n",
    "\n",
    "n_states = (len(position_bins) - 1) * (len(velocity_bins) - 1)\n",
    "n_actions = env.action_space.n\n",
    "\n",
    "# Initialize the Q-table\n",
    "Q = np.zeros((n_states, n_actions))\n",
    "\n",
    "# Q-learning parameters\n",
    "alpha = 0.1\n",
    "gamma = 0.99\n",
    "epsilon = 0.1\n",
    "n_episodes = 50000\n",
    "V_mean_list = []\n",
    "start_time = time.time()\n",
    "for episode in range(n_episodes):\n",
    "    s = discretize_state(env.reset())\n",
    "    done = False\n",
    "\n",
    "    while not done:\n",
    "        # Choose action using an epsilon-greedy strategy\n",
    "        if np.random.rand() < epsilon:\n",
    "            a = np.random.choice(n_actions)\n",
    "        else:\n",
    "            a = np.argmax(Q[s])\n",
    "\n",
    "        # Execute action and observe the next state and reward\n",
    "        s_next, r, done, _ = env.step(a)\n",
    "        s_next = discretize_state(s_next)\n",
    "\n",
    "        # Update Q-values using Q-learning update rule\n",
    "        Q[s, a] += alpha * (r + gamma * np.max(Q[s_next]) - Q[s, a])\n",
    "        V_mean = np.max(Q, axis = 1).mean()\n",
    "        V_mean_list.append(V_mean)\n",
    "\n",
    "        # Move to the next state\n",
    "        s = s_next\n",
    "total_time = time.time() - start_time\n",
    "\n",
    "# Compute the optimal policy from the Q-table\n",
    "policy = np.argmax(Q, axis=1)\n",
    "print(\"Optimal policy:\", policy)\n",
    "print(\"Total time:\", total_time)"
   ]
  },
  {
   "cell_type": "code",
   "execution_count": 352,
   "id": "0af9d92f",
   "metadata": {},
   "outputs": [
    {
     "data": {
      "text/plain": [
       "7950193"
      ]
     },
     "execution_count": 352,
     "metadata": {},
     "output_type": "execute_result"
    }
   ],
   "source": [
    "len(V_mean_list)"
   ]
  },
  {
   "cell_type": "code",
   "execution_count": 353,
   "id": "5e04b853",
   "metadata": {},
   "outputs": [
    {
     "data": {
      "image/png": "[encoded data removed]",
      "text/plain": [
       "<Figure size 432x288 with 1 Axes>"
      ]
     },
     "metadata": {
      "needs_background": "light"
     },
     "output_type": "display_data"
    },
    {
     "name": "stdout",
     "output_type": "stream",
     "text": [
      "Number of iteration: 7950193\n",
      "Optimal policy: [0 0 0 ... 0 0 0]\n",
      "Converge time: 968.4948537349701\n"
     ]
    }
   ],
   "source": [
    "plt.plot(np.arange(len(V_mean_list)), V_mean_list)\n",
    "plt.xlabel('Episodes')\n",
    "plt.ylabel('Mean Value by Episode')\n",
    "plt.title('Updated Value by Q-learning')\n",
    "plt.savefig('MDP3_Qlearning_update.jpg')\n",
    "plt.show()\n",
    "print(\"Number of iteration:\", len(V_mean_list))\n",
    "print(\"Optimal policy:\", policy)\n",
    "print(\"Converge time:\", total_time)"
   ]
  },
  {
   "cell_type": "code",
   "execution_count": 354,
   "id": "612e0ede",
   "metadata": {},
   "outputs": [
    {
     "name": "stdout",
     "output_type": "stream",
     "text": [
      "Average total reward over 100 episodes: -126.86\n"
     ]
    }
   ],
   "source": [
    "n_episodes = 100\n",
    "total_rewards = []\n",
    "for _ in range(n_episodes):\n",
    "    total_reward = get_total_reward_mc(env, policy)\n",
    "    total_rewards.append(total_reward)\n",
    "    \n",
    "average_total_reward = np.mean(total_rewards)\n",
    "print(f\"Average total reward over {n_episodes} episodes: {average_total_reward}\")"
   ]
  },
  {
   "cell_type": "code",
   "execution_count": 355,
   "id": "8d1b950a",
   "metadata": {},
   "outputs": [
    {
     "data": {
      "text/plain": [
       "631"
      ]
     },
     "execution_count": 355,
     "metadata": {},
     "output_type": "execute_result"
    }
   ],
   "source": [
    "len(np.where(policy!=0)[0])"
   ]
  },
  {
   "cell_type": "markdown",
   "id": "a2576639",
   "metadata": {},
   "source": [
    "### MDP3 solve by Q-learning with epsilon-decreasing exploration strategy"
   ]
  },
  {
   "cell_type": "code",
   "execution_count": 348,
   "id": "3b3d0028",
   "metadata": {},
   "outputs": [
    {
     "name": "stdout",
     "output_type": "stream",
     "text": [
      "Optimal policy: [0 0 0 ... 0 0 0]\n",
      "Total time: 225.71402502059937\n"
     ]
    }
   ],
   "source": [
    "# Discretize the state space\n",
    "position_bins = np.linspace(env.observation_space.low[0], env.observation_space.high[0], 40)\n",
    "velocity_bins = np.linspace(env.observation_space.low[1], env.observation_space.high[1], 40)\n",
    "\n",
    "def discretize_state(state):\n",
    "    position, velocity = state\n",
    "    position_idx = np.digitize(position, position_bins) - 1\n",
    "    velocity_idx = np.digitize(velocity, velocity_bins) - 1\n",
    "    return position_idx * (len(velocity_bins) - 1) + velocity_idx\n",
    "\n",
    "n_states = (len(position_bins) - 1) * (len(velocity_bins) - 1)\n",
    "n_actions = env.action_space.n\n",
    "\n",
    "# Initialize the Q-table\n",
    "Q = np.zeros((n_states, n_actions))\n",
    "\n",
    "# Q-learning parameters\n",
    "alpha = 0.1\n",
    "gamma = 0.99\n",
    "epsilon = 1.0\n",
    "epsilon_min = 0.01\n",
    "epsilon_decay = 0.995\n",
    "n_episodes = 10000\n",
    "V_mean_list = []\n",
    "start_time = time.time()\n",
    "\n",
    "for episode in range(n_episodes):\n",
    "    s = discretize_state(env.reset())\n",
    "    done = False\n",
    "\n",
    "    while not done:\n",
    "        # Choose action using an epsilon-greedy strategy\n",
    "        if np.random.rand() < epsilon:\n",
    "            a = np.random.choice(n_actions)\n",
    "        else:\n",
    "            a = np.argmax(Q[s])\n",
    "\n",
    "        # Execute action and observe the next state and reward\n",
    "        s_next, r, done, _ = env.step(a)\n",
    "        s_next = discretize_state(s_next)\n",
    "\n",
    "        # Update Q-values using Q-learning update rule\n",
    "        Q[s, a] += alpha * (r + gamma * np.max(Q[s_next]) - Q[s, a])\n",
    "        V_mean = np.max(Q, axis = 1).mean()\n",
    "        V_mean_list.append(V_mean)\n",
    "\n",
    "        # Move to the next state\n",
    "        s = s_next\n",
    "    # Decrease epsilon over episodes\n",
    "    epsilon = max(epsilon_min, epsilon * epsilon_decay)\n",
    "total_time = time.time() - start_time\n",
    "\n",
    "# Compute the optimal policy from the Q-table\n",
    "policy = np.argmax(Q, axis=1)\n",
    "print(\"Optimal policy:\", policy)\n",
    "print(\"Total time:\", total_time)"
   ]
  },
  {
   "cell_type": "code",
   "execution_count": 349,
   "id": "fe7392e7",
   "metadata": {},
   "outputs": [
    {
     "data": {
      "image/png": "[encoded data removed]",
      "text/plain": [
       "<Figure size 432x288 with 1 Axes>"
      ]
     },
     "metadata": {
      "needs_background": "light"
     },
     "output_type": "display_data"
    },
    {
     "name": "stdout",
     "output_type": "stream",
     "text": [
      "Number of iteration: 1866515\n",
      "Optimal policy: [0 0 0 ... 0 0 0]\n",
      "Converge time: 225.71402502059937\n"
     ]
    }
   ],
   "source": [
    "plt.plot(np.arange(len(V_mean_list)), V_mean_list)\n",
    "plt.xlabel('Episodes')\n",
    "plt.ylabel('Mean Value by Episode')\n",
    "plt.title('Updated Value by Q-learning')\n",
    "plt.savefig('MDP3_Qlearning_update.jpg')\n",
    "plt.show()\n",
    "print(\"Number of iteration:\", len(V_mean_list))\n",
    "print(\"Optimal policy:\", policy)\n",
    "print(\"Converge time:\", total_time)"
   ]
  },
  {
   "cell_type": "code",
   "execution_count": 350,
   "id": "4c9e86fb",
   "metadata": {},
   "outputs": [
    {
     "name": "stdout",
     "output_type": "stream",
     "text": [
      "Average total reward over 100 episodes: -161.63\n"
     ]
    }
   ],
   "source": [
    "n_episodes = 100\n",
    "total_rewards = []\n",
    "for _ in range(n_episodes):\n",
    "    total_reward = get_total_reward_mc(env, policy)\n",
    "    total_rewards.append(total_reward)\n",
    "    \n",
    "average_total_reward = np.mean(total_rewards)\n",
    "print(f\"Average total reward over {n_episodes} episodes: {average_total_reward}\")"
   ]
  },
  {
   "cell_type": "code",
   "execution_count": null,
   "id": "b488e481",
   "metadata": {},
   "outputs": [],
   "source": []
  }
 ],
 "metadata": {
  "kernelspec": {
   "display_name": "Python 3 (ipykernel)",
   "language": "python",
   "name": "python3"
  },
  "language_info": {
   "codemirror_mode": {
    "name": "ipython",
    "version": 3
   },
   "file_extension": ".py",
   "mimetype": "text/x-python",
   "name": "python",
   "nbconvert_exporter": "python",
   "pygments_lexer": "ipython3",
   "version": "3.8.8"
  }
 },
 "nbformat": 4,
 "nbformat_minor": 5
}
